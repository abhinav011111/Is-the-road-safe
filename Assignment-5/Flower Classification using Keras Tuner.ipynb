{
 "cells": [
  {
   "cell_type": "code",
   "execution_count": null,
   "id": "ad367ae5",
   "metadata": {},
   "outputs": [],
   "source": [
    "# !pip install keras-tuner"
   ]
  },
  {
   "cell_type": "markdown",
   "id": "e7a3bba2",
   "metadata": {},
   "source": [
    "### Importing the libraries"
   ]
  },
  {
   "cell_type": "code",
   "execution_count": 1,
   "id": "f0242a4d",
   "metadata": {},
   "outputs": [],
   "source": [
    "import tensorflow as tf  \n",
    "import pandas as pd\n",
    "import numpy as np\n",
    "import matplotlib.pyplot as plt"
   ]
  },
  {
   "cell_type": "code",
   "execution_count": 2,
   "id": "e8b80a2f",
   "metadata": {},
   "outputs": [],
   "source": [
    "import keras"
   ]
  },
  {
   "cell_type": "code",
   "execution_count": 3,
   "id": "311af6df",
   "metadata": {},
   "outputs": [],
   "source": [
    "import glob"
   ]
  },
  {
   "cell_type": "code",
   "execution_count": 4,
   "id": "71c5cc05",
   "metadata": {},
   "outputs": [],
   "source": [
    "from PIL import Image"
   ]
  },
  {
   "cell_type": "markdown",
   "id": "268d7787",
   "metadata": {},
   "source": [
    "### Reading the dataset"
   ]
  },
  {
   "cell_type": "code",
   "execution_count": 5,
   "id": "e2f883bd",
   "metadata": {},
   "outputs": [],
   "source": [
    "# this reads all the paths of all folders present in flowers.\n",
    "allFlowers = glob.glob(\"D:/Is-the-road-safe-/Assignment-2/flowers/*/**\") "
   ]
  },
  {
   "cell_type": "code",
   "execution_count": 6,
   "id": "54978d1b",
   "metadata": {},
   "outputs": [
    {
     "data": {
      "text/plain": [
       "15740"
      ]
     },
     "execution_count": 6,
     "metadata": {},
     "output_type": "execute_result"
    }
   ],
   "source": [
    "len(allFlowers)"
   ]
  },
  {
   "cell_type": "code",
   "execution_count": 7,
   "id": "65e5df15",
   "metadata": {},
   "outputs": [],
   "source": [
    "from random import shuffle"
   ]
  },
  {
   "cell_type": "code",
   "execution_count": 8,
   "id": "cf200bf9",
   "metadata": {},
   "outputs": [],
   "source": [
    "shuffle(allFlowers)"
   ]
  },
  {
   "cell_type": "code",
   "execution_count": 9,
   "id": "2569290d",
   "metadata": {},
   "outputs": [
    {
     "data": {
      "text/plain": [
       "'astilbe'"
      ]
     },
     "execution_count": 9,
     "metadata": {},
     "output_type": "execute_result"
    }
   ],
   "source": [
    "allFlowers[0].split(\"\\\\\")[1]"
   ]
  },
  {
   "cell_type": "code",
   "execution_count": 10,
   "id": "0b88fadc",
   "metadata": {},
   "outputs": [],
   "source": [
    "X_train=np.zeros((len(allFlowers),128, 128,3))"
   ]
  },
  {
   "cell_type": "code",
   "execution_count": null,
   "id": "4353f177",
   "metadata": {},
   "outputs": [],
   "source": []
  },
  {
   "cell_type": "code",
   "execution_count": 11,
   "id": "e10053b0",
   "metadata": {},
   "outputs": [],
   "source": [
    "im = Image.open(allFlowers[0]).resize((128,128))"
   ]
  },
  {
   "cell_type": "code",
   "execution_count": 12,
   "id": "6b0abb5c",
   "metadata": {},
   "outputs": [],
   "source": [
    "arr = np.array(im)"
   ]
  },
  {
   "cell_type": "code",
   "execution_count": 13,
   "id": "21e1ca54",
   "metadata": {},
   "outputs": [
    {
     "data": {
      "text/plain": [
       "(128, 128, 3)"
      ]
     },
     "execution_count": 13,
     "metadata": {},
     "output_type": "execute_result"
    }
   ],
   "source": [
    "arr.shape\n"
   ]
  },
  {
   "cell_type": "code",
   "execution_count": 14,
   "id": "1cc398be",
   "metadata": {},
   "outputs": [],
   "source": [
    "im2 = Image.open(allFlowers[9800]).resize((128,128))"
   ]
  },
  {
   "cell_type": "code",
   "execution_count": 15,
   "id": "a15d8db4",
   "metadata": {},
   "outputs": [],
   "source": [
    "arr1 = np.array(im2)"
   ]
  },
  {
   "cell_type": "code",
   "execution_count": 16,
   "id": "911efa6c",
   "metadata": {},
   "outputs": [
    {
     "name": "stdout",
     "output_type": "stream",
     "text": [
      "Yes\n"
     ]
    }
   ],
   "source": [
    "if arr.shape == arr1.shape:\n",
    "    print(\"Yes\")"
   ]
  },
  {
   "cell_type": "code",
   "execution_count": 17,
   "id": "888e608c",
   "metadata": {},
   "outputs": [],
   "source": [
    "Y_train= []"
   ]
  },
  {
   "cell_type": "code",
   "execution_count": 18,
   "id": "cf4e231a",
   "metadata": {},
   "outputs": [],
   "source": [
    "\n",
    "for i, ft in enumerate(allFlowers):\n",
    "    im=Image.open(ft).resize((128,128))\n",
    "    arr1 = np.array(im)\n",
    "    \n",
    "    if arr.shape != arr1.shape:\n",
    "        X_train[i] = np.array(im.convert('RGB'))\n",
    "    else:\n",
    "        X_train[i] = arr1\n",
    "        \n",
    "    Y_train.append(ft.split(\"\\\\\")[1])"
   ]
  },
  {
   "cell_type": "code",
   "execution_count": 19,
   "id": "fd46d3e6",
   "metadata": {},
   "outputs": [
    {
     "data": {
      "text/plain": [
       "15740"
      ]
     },
     "execution_count": 19,
     "metadata": {},
     "output_type": "execute_result"
    }
   ],
   "source": [
    "len(Y_train)"
   ]
  },
  {
   "cell_type": "code",
   "execution_count": null,
   "id": "03a65651",
   "metadata": {},
   "outputs": [],
   "source": []
  },
  {
   "cell_type": "code",
   "execution_count": 20,
   "id": "0041bc1c",
   "metadata": {},
   "outputs": [],
   "source": [
    "X_train = X_train/255"
   ]
  },
  {
   "cell_type": "code",
   "execution_count": 21,
   "id": "7cf4ffb9",
   "metadata": {},
   "outputs": [
    {
     "data": {
      "text/plain": [
       "array([[[0.04313725, 0.06666667, 0.04313725],\n",
       "        [0.06666667, 0.09019608, 0.07843137],\n",
       "        [0.07843137, 0.10196078, 0.10196078],\n",
       "        ...,\n",
       "        [0.10588235, 0.10980392, 0.08235294],\n",
       "        [0.27843137, 0.29803922, 0.22745098],\n",
       "        [0.40784314, 0.21568627, 0.17254902]],\n",
       "\n",
       "       [[0.03137255, 0.05490196, 0.03137255],\n",
       "        [0.04313725, 0.06666667, 0.05490196],\n",
       "        [0.03137255, 0.04705882, 0.04705882],\n",
       "        ...,\n",
       "        [0.05098039, 0.05882353, 0.02745098],\n",
       "        [0.11764706, 0.14117647, 0.07058824],\n",
       "        [0.38823529, 0.19607843, 0.15294118]],\n",
       "\n",
       "       [[0.04313725, 0.0627451 , 0.03921569],\n",
       "        [0.03529412, 0.05490196, 0.04313725],\n",
       "        [0.01176471, 0.02745098, 0.02745098],\n",
       "        ...,\n",
       "        [0.10196078, 0.1254902 , 0.0745098 ],\n",
       "        [0.09411765, 0.12156863, 0.03529412],\n",
       "        [0.42745098, 0.23921569, 0.18431373]],\n",
       "\n",
       "       ...,\n",
       "\n",
       "       [[0.49411765, 0.61176471, 0.47843137],\n",
       "        [0.49019608, 0.6       , 0.48235294],\n",
       "        [0.49019608, 0.58823529, 0.48627451],\n",
       "        ...,\n",
       "        [0.27058824, 0.32941176, 0.14901961],\n",
       "        [0.3372549 , 0.43137255, 0.20392157],\n",
       "        [0.39607843, 0.51764706, 0.25490196]],\n",
       "\n",
       "       [[0.4627451 , 0.56470588, 0.41960784],\n",
       "        [0.4627451 , 0.56470588, 0.43921569],\n",
       "        [0.46666667, 0.55686275, 0.4627451 ],\n",
       "        ...,\n",
       "        [0.51764706, 0.56862745, 0.39607843],\n",
       "        [0.36078431, 0.45098039, 0.23137255],\n",
       "        [0.3372549 , 0.45490196, 0.20784314]],\n",
       "\n",
       "       [[0.46666667, 0.5372549 , 0.39607843],\n",
       "        [0.44705882, 0.52156863, 0.4       ],\n",
       "        [0.45882353, 0.5254902 , 0.43137255],\n",
       "        ...,\n",
       "        [0.63137255, 0.67058824, 0.50196078],\n",
       "        [0.42352941, 0.50980392, 0.29803922],\n",
       "        [0.2745098 , 0.38823529, 0.14901961]]])"
      ]
     },
     "execution_count": 21,
     "metadata": {},
     "output_type": "execute_result"
    }
   ],
   "source": [
    "X_train[0]"
   ]
  },
  {
   "cell_type": "code",
   "execution_count": 22,
   "id": "6ff3800a",
   "metadata": {},
   "outputs": [
    {
     "data": {
      "text/plain": [
       "15740"
      ]
     },
     "execution_count": 22,
     "metadata": {},
     "output_type": "execute_result"
    }
   ],
   "source": [
    "len(Y_train)"
   ]
  },
  {
   "cell_type": "code",
   "execution_count": 23,
   "id": "f0a40c8a",
   "metadata": {},
   "outputs": [],
   "source": [
    "from sklearn.preprocessing import LabelEncoder\n",
    "lb = LabelEncoder()"
   ]
  },
  {
   "cell_type": "code",
   "execution_count": 24,
   "id": "2c912523",
   "metadata": {},
   "outputs": [],
   "source": [
    "Y_train = lb.fit_transform(Y_train)"
   ]
  },
  {
   "cell_type": "code",
   "execution_count": 25,
   "id": "4801eb70",
   "metadata": {},
   "outputs": [
    {
     "data": {
      "text/plain": [
       "array([0, 0, 4, ..., 1, 3, 4], dtype=int64)"
      ]
     },
     "execution_count": 25,
     "metadata": {},
     "output_type": "execute_result"
    }
   ],
   "source": [
    "Y_train"
   ]
  },
  {
   "cell_type": "markdown",
   "id": "d78fdc79",
   "metadata": {},
   "source": [
    "### Using a self-defined Model"
   ]
  },
  {
   "cell_type": "code",
   "execution_count": 26,
   "id": "9e39a117",
   "metadata": {},
   "outputs": [],
   "source": [
    "model = tf.keras.models.Sequential([\n",
    "    tf.keras.layers.Conv2D(32, (3,3), activation='relu', input_shape=(128,128,3)),\n",
    "    tf.keras.layers.MaxPooling2D(2, 2),\n",
    "    tf.keras.layers.Conv2D(64, (3,3), activation='relu'),\n",
    "    tf.keras.layers.MaxPooling2D(2, 2),\n",
    "    tf.keras.layers.Conv2D(128, (3,3), activation='relu'),\n",
    "    tf.keras.layers.MaxPooling2D(2, 2),\n",
    "    tf.keras.layers.Flatten(),\n",
    "    tf.keras.layers.Dropout(0.7),\n",
    "    tf.keras.layers.Dense(512, activation='relu'),\n",
    "    tf.keras.layers.Dense(128, activation='relu'),\n",
    "    tf.keras.layers.Dense(16, activation='softmax')\n",
    "])"
   ]
  },
  {
   "cell_type": "code",
   "execution_count": 27,
   "id": "3478e994",
   "metadata": {},
   "outputs": [],
   "source": [
    "model.compile(optimizer=tf.keras.optimizers.Adam(learning_rate=1e-3),\n",
    "             loss='sparse_categorical_crossentropy',\n",
    "             metrics=['accuracy'])\n"
   ]
  },
  {
   "cell_type": "code",
   "execution_count": 28,
   "id": "7d663cb6",
   "metadata": {},
   "outputs": [
    {
     "name": "stdout",
     "output_type": "stream",
     "text": [
      "Model: \"sequential\"\n",
      "_________________________________________________________________\n",
      " Layer (type)                Output Shape              Param #   \n",
      "=================================================================\n",
      " conv2d (Conv2D)             (None, 126, 126, 32)      896       \n",
      "                                                                 \n",
      " max_pooling2d (MaxPooling2D  (None, 63, 63, 32)       0         \n",
      " )                                                               \n",
      "                                                                 \n",
      " conv2d_1 (Conv2D)           (None, 61, 61, 64)        18496     \n",
      "                                                                 \n",
      " max_pooling2d_1 (MaxPooling  (None, 30, 30, 64)       0         \n",
      " 2D)                                                             \n",
      "                                                                 \n",
      " conv2d_2 (Conv2D)           (None, 28, 28, 128)       73856     \n",
      "                                                                 \n",
      " max_pooling2d_2 (MaxPooling  (None, 14, 14, 128)      0         \n",
      " 2D)                                                             \n",
      "                                                                 \n",
      " flatten (Flatten)           (None, 25088)             0         \n",
      "                                                                 \n",
      " dropout (Dropout)           (None, 25088)             0         \n",
      "                                                                 \n",
      " dense (Dense)               (None, 512)               12845568  \n",
      "                                                                 \n",
      " dense_1 (Dense)             (None, 128)               65664     \n",
      "                                                                 \n",
      " dense_2 (Dense)             (None, 16)                2064      \n",
      "                                                                 \n",
      "=================================================================\n",
      "Total params: 13,006,544\n",
      "Trainable params: 13,006,544\n",
      "Non-trainable params: 0\n",
      "_________________________________________________________________\n"
     ]
    }
   ],
   "source": [
    "model.summary()"
   ]
  },
  {
   "cell_type": "code",
   "execution_count": 29,
   "id": "a1a2dea6",
   "metadata": {},
   "outputs": [
    {
     "name": "stdout",
     "output_type": "stream",
     "text": [
      "Epoch 1/3\n",
      "443/443 [==============================] - 214s 469ms/step - loss: 1.8139 - accuracy: 0.3799 - val_loss: 1.3899 - val_accuracy: 0.5241\n",
      "Epoch 2/3\n",
      "443/443 [==============================] - 217s 490ms/step - loss: 1.3041 - accuracy: 0.5556 - val_loss: 1.2845 - val_accuracy: 0.5769\n",
      "Epoch 3/3\n",
      "443/443 [==============================] - 217s 489ms/step - loss: 1.0838 - accuracy: 0.6326 - val_loss: 1.1362 - val_accuracy: 0.6169\n"
     ]
    },
    {
     "data": {
      "text/plain": [
       "<keras.callbacks.History at 0x1bd865e05e0>"
      ]
     },
     "execution_count": 29,
     "metadata": {},
     "output_type": "execute_result"
    }
   ],
   "source": [
    "model.fit(X_train,Y_train, epochs = 3, validation_split = 0.1)"
   ]
  },
  {
   "cell_type": "markdown",
   "id": "089d6c90",
   "metadata": {},
   "source": [
    "#### The accuracy of the model when we self define the model is : 63.26%"
   ]
  },
  {
   "cell_type": "markdown",
   "id": "792be393",
   "metadata": {},
   "source": [
    "### Using keras-tuner to find the appropriate values for the Hyper Parameters"
   ]
  },
  {
   "cell_type": "code",
   "execution_count": 30,
   "id": "e8ee5b82",
   "metadata": {},
   "outputs": [],
   "source": [
    "def  model_builder(hp):\n",
    "    \n",
    "    model= keras.Sequential([\n",
    "        \n",
    "        keras.layers.Conv2D(\n",
    "            filters=hp.Int('conv_1_filter', min_value=16, max_value=64, step=16),#min value of filter you want\n",
    "            kernel_size=hp.Choice('conv_1_kernel', values = [2,5]),#picks like mcq\n",
    "            activation='relu',\n",
    "            input_shape=(128,128,3)\n",
    "        ),\n",
    "        keras.layers.MaxPooling2D(\n",
    "            pool_size = (2,2)\n",
    "        ),\n",
    "        keras.layers.Conv2D(\n",
    "            filters=hp.Int('conv_2_filter', min_value=16, max_value=64, step=8),#min value of filter you want\n",
    "            kernel_size=hp.Choice('conv_2_kernel', values = [2,5]),#picks like mcq\n",
    "            activation='relu',\n",
    "        ),\n",
    "        keras.layers.MaxPooling2D(\n",
    "            pool_size = (2,2)\n",
    "        ),\n",
    "        keras.layers.Conv2D(\n",
    "            filters=hp.Int('conv_3_filter', min_value=16, max_value=64, step=16),#min value of filter you want\n",
    "            kernel_size=hp.Choice('conv_3_kernel', values = [2,5]),#picks like mcq\n",
    "            activation='relu',\n",
    "        ),\n",
    "        keras.layers.MaxPooling2D(\n",
    "            pool_size = (2,2)\n",
    "        ),\n",
    "        \n",
    "        keras.layers.Flatten(),\n",
    "\n",
    "        keras.layers.Dense(\n",
    "            units=hp.Int('dense_1_units', min_value=32, max_value=512, step=16),\n",
    "            activation='relu'\n",
    "        ),\n",
    "        keras.layers.Dense(\n",
    "            units=hp.Int('dense_2_units', min_value=32, max_value=128, step=16),\n",
    "            activation='relu'\n",
    "        ),\n",
    "        \n",
    "        keras.layers.Dense(16, activation='softmax')\n",
    "    ])\n",
    "    model.compile(optimizer=keras.optimizers.Adam(hp.Choice('learning_rate', values=[1e-2, 1e-3])),\n",
    "              loss='sparse_categorical_crossentropy',\n",
    "              metrics=['accuracy'])\n",
    "  \n",
    "    return model\n",
    "    "
   ]
  },
  {
   "cell_type": "code",
   "execution_count": 31,
   "id": "7b01f257",
   "metadata": {},
   "outputs": [],
   "source": [
    "from keras_tuner import RandomSearch\n",
    "from keras_tuner.engine.hyperparameters import HyperParameters"
   ]
  },
  {
   "cell_type": "code",
   "execution_count": 36,
   "id": "a33ab7a2",
   "metadata": {},
   "outputs": [],
   "source": [
    "tuner_search=RandomSearch(model_builder,\n",
    "                          objective='val_accuracy',\n",
    "                          max_trials=5,directory='output',project_name=\"Flower_HyperTune1\")"
   ]
  },
  {
   "cell_type": "code",
   "execution_count": 37,
   "id": "5c83677a",
   "metadata": {},
   "outputs": [
    {
     "name": "stdout",
     "output_type": "stream",
     "text": [
      "Trial 5 Complete [00h 08m 18s]\n",
      "val_accuracy: 0.07560355961322784\n",
      "\n",
      "Best val_accuracy So Far: 0.5578144788742065\n",
      "Total elapsed time: 00h 31m 57s\n",
      "INFO:tensorflow:Oracle triggered exit\n"
     ]
    }
   ],
   "source": [
    "tuner_search.search(X_train, Y_train ,epochs=2,validation_split=0.1)"
   ]
  },
  {
   "cell_type": "code",
   "execution_count": 41,
   "id": "b0e48626",
   "metadata": {},
   "outputs": [],
   "source": [
    "tuner_model=tuner_search.get_best_models(num_models=1)[0]\n"
   ]
  },
  {
   "cell_type": "code",
   "execution_count": 42,
   "id": "d41dbc56",
   "metadata": {},
   "outputs": [
    {
     "name": "stdout",
     "output_type": "stream",
     "text": [
      "Model: \"sequential\"\n",
      "_________________________________________________________________\n",
      " Layer (type)                Output Shape              Param #   \n",
      "=================================================================\n",
      " conv2d (Conv2D)             (None, 124, 124, 64)      4864      \n",
      "                                                                 \n",
      " max_pooling2d (MaxPooling2D  (None, 62, 62, 64)       0         \n",
      " )                                                               \n",
      "                                                                 \n",
      " conv2d_1 (Conv2D)           (None, 61, 61, 48)        12336     \n",
      "                                                                 \n",
      " max_pooling2d_1 (MaxPooling  (None, 30, 30, 48)       0         \n",
      " 2D)                                                             \n",
      "                                                                 \n",
      " conv2d_2 (Conv2D)           (None, 29, 29, 32)        6176      \n",
      "                                                                 \n",
      " max_pooling2d_2 (MaxPooling  (None, 14, 14, 32)       0         \n",
      " 2D)                                                             \n",
      "                                                                 \n",
      " flatten (Flatten)           (None, 6272)              0         \n",
      "                                                                 \n",
      " dense (Dense)               (None, 128)               802944    \n",
      "                                                                 \n",
      " dense_1 (Dense)             (None, 112)               14448     \n",
      "                                                                 \n",
      " dense_2 (Dense)             (None, 16)                1808      \n",
      "                                                                 \n",
      "=================================================================\n",
      "Total params: 842,576\n",
      "Trainable params: 842,576\n",
      "Non-trainable params: 0\n",
      "_________________________________________________________________\n"
     ]
    }
   ],
   "source": [
    "tuner_model.summary()"
   ]
  },
  {
   "cell_type": "code",
   "execution_count": 43,
   "id": "21db5b91",
   "metadata": {},
   "outputs": [
    {
     "name": "stdout",
     "output_type": "stream",
     "text": [
      "Epoch 4/10\n",
      "443/443 [==============================] - 176s 387ms/step - loss: 1.1090 - accuracy: 0.6256 - val_loss: 1.2586 - val_accuracy: 0.5724\n",
      "Epoch 5/10\n",
      "443/443 [==============================] - 167s 377ms/step - loss: 0.8804 - accuracy: 0.7034 - val_loss: 1.2043 - val_accuracy: 0.6010\n",
      "Epoch 6/10\n",
      "443/443 [==============================] - 171s 385ms/step - loss: 0.6679 - accuracy: 0.7659 - val_loss: 1.3385 - val_accuracy: 0.6042\n",
      "Epoch 7/10\n",
      "443/443 [==============================] - 181s 410ms/step - loss: 0.5018 - accuracy: 0.8246 - val_loss: 1.4569 - val_accuracy: 0.6017\n",
      "Epoch 8/10\n",
      "443/443 [==============================] - 176s 398ms/step - loss: 0.3292 - accuracy: 0.8864 - val_loss: 1.7190 - val_accuracy: 0.5985\n",
      "Epoch 9/10\n",
      "443/443 [==============================] - 182s 410ms/step - loss: 0.2493 - accuracy: 0.9120 - val_loss: 2.0134 - val_accuracy: 0.5839\n",
      "Epoch 10/10\n",
      "443/443 [==============================] - 171s 385ms/step - loss: 0.1904 - accuracy: 0.9351 - val_loss: 2.0250 - val_accuracy: 0.5940\n"
     ]
    }
   ],
   "source": [
    "history_of_model = tuner_model.fit(X_train , Y_train , epochs=10, validation_split=0.1, initial_epoch=3)"
   ]
  },
  {
   "cell_type": "markdown",
   "id": "e7f45b09",
   "metadata": {},
   "source": [
    "### Here we can see that the model trained has an accuracy of 93.51%"
   ]
  },
  {
   "cell_type": "code",
   "execution_count": 44,
   "id": "d3bcf8cc",
   "metadata": {},
   "outputs": [
    {
     "data": {
      "text/plain": [
       "dict_keys(['loss', 'accuracy', 'val_loss', 'val_accuracy'])"
      ]
     },
     "execution_count": 44,
     "metadata": {},
     "output_type": "execute_result"
    }
   ],
   "source": [
    "history_of_model.history.keys()"
   ]
  },
  {
   "cell_type": "code",
   "execution_count": 47,
   "id": "fe9d0a18",
   "metadata": {},
   "outputs": [
    {
     "data": {
      "image/png": "[encoded data removed]",
      "text/plain": [
       "<Figure size 432x288 with 1 Axes>"
      ]
     },
     "metadata": {
      "needs_background": "light"
     },
     "output_type": "display_data"
    }
   ],
   "source": [
    "plt.plot(history_of_model.history['accuracy'])\n",
    "plt.plot(history_of_model.history['val_accuracy'])\n",
    "plt.title('model accuracy')\n",
    "plt.ylabel('accuracy')\n",
    "plt.xlabel('epoch')\n",
    "plt.legend(['train', 'val'], loc='upper left')\n",
    "plt.show()"
   ]
  },
  {
   "cell_type": "code",
   "execution_count": 48,
   "id": "f2280eba",
   "metadata": {},
   "outputs": [
    {
     "data": {
      "image/png": "[encoded data removed]",
      "text/plain": [
       "<Figure size 432x288 with 1 Axes>"
      ]
     },
     "metadata": {
      "needs_background": "light"
     },
     "output_type": "display_data"
    }
   ],
   "source": [
    "plt.plot(history_of_model.history['loss'])\n",
    "plt.plot(history_of_model.history['val_loss'])\n",
    "plt.title('model loss')\n",
    "plt.ylabel('loss')\n",
    "plt.xlabel('epoch')\n",
    "plt.legend(['train', 'val'], loc='upper left')\n",
    "plt.show()"
   ]
  },
  {
   "cell_type": "markdown",
   "id": "6f044367",
   "metadata": {},
   "source": [
    "### Hyperparameters"
   ]
  },
  {
   "cell_type": "code",
   "execution_count": 49,
   "id": "f3e328bb",
   "metadata": {},
   "outputs": [
    {
     "data": {
      "text/plain": [
       "{'name': 'sequential',\n",
       " 'layers': [{'class_name': 'InputLayer',\n",
       "   'config': {'batch_input_shape': (None, 128, 128, 3),\n",
       "    'dtype': 'float32',\n",
       "    'sparse': False,\n",
       "    'ragged': False,\n",
       "    'name': 'conv2d_input'}},\n",
       "  {'class_name': 'Conv2D',\n",
       "   'config': {'name': 'conv2d',\n",
       "    'trainable': True,\n",
       "    'batch_input_shape': (None, 128, 128, 3),\n",
       "    'dtype': 'float32',\n",
       "    'filters': 64,\n",
       "    'kernel_size': (5, 5),\n",
       "    'strides': (1, 1),\n",
       "    'padding': 'valid',\n",
       "    'data_format': 'channels_last',\n",
       "    'dilation_rate': (1, 1),\n",
       "    'groups': 1,\n",
       "    'activation': 'relu',\n",
       "    'use_bias': True,\n",
       "    'kernel_initializer': {'class_name': 'GlorotUniform',\n",
       "     'config': {'seed': None}},\n",
       "    'bias_initializer': {'class_name': 'Zeros', 'config': {}},\n",
       "    'kernel_regularizer': None,\n",
       "    'bias_regularizer': None,\n",
       "    'activity_regularizer': None,\n",
       "    'kernel_constraint': None,\n",
       "    'bias_constraint': None}},\n",
       "  {'class_name': 'MaxPooling2D',\n",
       "   'config': {'name': 'max_pooling2d',\n",
       "    'trainable': True,\n",
       "    'dtype': 'float32',\n",
       "    'pool_size': (2, 2),\n",
       "    'padding': 'valid',\n",
       "    'strides': (2, 2),\n",
       "    'data_format': 'channels_last'}},\n",
       "  {'class_name': 'Conv2D',\n",
       "   'config': {'name': 'conv2d_1',\n",
       "    'trainable': True,\n",
       "    'dtype': 'float32',\n",
       "    'filters': 48,\n",
       "    'kernel_size': (2, 2),\n",
       "    'strides': (1, 1),\n",
       "    'padding': 'valid',\n",
       "    'data_format': 'channels_last',\n",
       "    'dilation_rate': (1, 1),\n",
       "    'groups': 1,\n",
       "    'activation': 'relu',\n",
       "    'use_bias': True,\n",
       "    'kernel_initializer': {'class_name': 'GlorotUniform',\n",
       "     'config': {'seed': None}},\n",
       "    'bias_initializer': {'class_name': 'Zeros', 'config': {}},\n",
       "    'kernel_regularizer': None,\n",
       "    'bias_regularizer': None,\n",
       "    'activity_regularizer': None,\n",
       "    'kernel_constraint': None,\n",
       "    'bias_constraint': None}},\n",
       "  {'class_name': 'MaxPooling2D',\n",
       "   'config': {'name': 'max_pooling2d_1',\n",
       "    'trainable': True,\n",
       "    'dtype': 'float32',\n",
       "    'pool_size': (2, 2),\n",
       "    'padding': 'valid',\n",
       "    'strides': (2, 2),\n",
       "    'data_format': 'channels_last'}},\n",
       "  {'class_name': 'Conv2D',\n",
       "   'config': {'name': 'conv2d_2',\n",
       "    'trainable': True,\n",
       "    'dtype': 'float32',\n",
       "    'filters': 32,\n",
       "    'kernel_size': (2, 2),\n",
       "    'strides': (1, 1),\n",
       "    'padding': 'valid',\n",
       "    'data_format': 'channels_last',\n",
       "    'dilation_rate': (1, 1),\n",
       "    'groups': 1,\n",
       "    'activation': 'relu',\n",
       "    'use_bias': True,\n",
       "    'kernel_initializer': {'class_name': 'GlorotUniform',\n",
       "     'config': {'seed': None}},\n",
       "    'bias_initializer': {'class_name': 'Zeros', 'config': {}},\n",
       "    'kernel_regularizer': None,\n",
       "    'bias_regularizer': None,\n",
       "    'activity_regularizer': None,\n",
       "    'kernel_constraint': None,\n",
       "    'bias_constraint': None}},\n",
       "  {'class_name': 'MaxPooling2D',\n",
       "   'config': {'name': 'max_pooling2d_2',\n",
       "    'trainable': True,\n",
       "    'dtype': 'float32',\n",
       "    'pool_size': (2, 2),\n",
       "    'padding': 'valid',\n",
       "    'strides': (2, 2),\n",
       "    'data_format': 'channels_last'}},\n",
       "  {'class_name': 'Flatten',\n",
       "   'config': {'name': 'flatten',\n",
       "    'trainable': True,\n",
       "    'dtype': 'float32',\n",
       "    'data_format': 'channels_last'}},\n",
       "  {'class_name': 'Dense',\n",
       "   'config': {'name': 'dense',\n",
       "    'trainable': True,\n",
       "    'dtype': 'float32',\n",
       "    'units': 128,\n",
       "    'activation': 'relu',\n",
       "    'use_bias': True,\n",
       "    'kernel_initializer': {'class_name': 'GlorotUniform',\n",
       "     'config': {'seed': None}},\n",
       "    'bias_initializer': {'class_name': 'Zeros', 'config': {}},\n",
       "    'kernel_regularizer': None,\n",
       "    'bias_regularizer': None,\n",
       "    'activity_regularizer': None,\n",
       "    'kernel_constraint': None,\n",
       "    'bias_constraint': None}},\n",
       "  {'class_name': 'Dense',\n",
       "   'config': {'name': 'dense_1',\n",
       "    'trainable': True,\n",
       "    'dtype': 'float32',\n",
       "    'units': 112,\n",
       "    'activation': 'relu',\n",
       "    'use_bias': True,\n",
       "    'kernel_initializer': {'class_name': 'GlorotUniform',\n",
       "     'config': {'seed': None}},\n",
       "    'bias_initializer': {'class_name': 'Zeros', 'config': {}},\n",
       "    'kernel_regularizer': None,\n",
       "    'bias_regularizer': None,\n",
       "    'activity_regularizer': None,\n",
       "    'kernel_constraint': None,\n",
       "    'bias_constraint': None}},\n",
       "  {'class_name': 'Dense',\n",
       "   'config': {'name': 'dense_2',\n",
       "    'trainable': True,\n",
       "    'dtype': 'float32',\n",
       "    'units': 16,\n",
       "    'activation': 'softmax',\n",
       "    'use_bias': True,\n",
       "    'kernel_initializer': {'class_name': 'GlorotUniform',\n",
       "     'config': {'seed': None}},\n",
       "    'bias_initializer': {'class_name': 'Zeros', 'config': {}},\n",
       "    'kernel_regularizer': None,\n",
       "    'bias_regularizer': None,\n",
       "    'activity_regularizer': None,\n",
       "    'kernel_constraint': None,\n",
       "    'bias_constraint': None}}]}"
      ]
     },
     "execution_count": 49,
     "metadata": {},
     "output_type": "execute_result"
    }
   ],
   "source": [
    "tuner_model.get_config()"
   ]
  },
  {
   "cell_type": "code",
   "execution_count": null,
   "id": "69418dea",
   "metadata": {},
   "outputs": [],
   "source": []
  }
 ],
 "metadata": {
  "kernelspec": {
   "display_name": "Python 3 (ipykernel)",
   "language": "python",
   "name": "python3"
  },
  "language_info": {
   "codemirror_mode": {
    "name": "ipython",
    "version": 3
   },
   "file_extension": ".py",
   "mimetype": "text/x-python",
   "name": "python",
   "nbconvert_exporter": "python",
   "pygments_lexer": "ipython3",
   "version": "3.9.7"
  }
 },
 "nbformat": 4,
 "nbformat_minor": 5
}
