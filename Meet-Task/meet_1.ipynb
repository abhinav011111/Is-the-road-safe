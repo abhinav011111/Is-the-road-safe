{
 "cells": [
  {
   "cell_type": "code",
   "execution_count": null,
   "id": "a31808e2",
   "metadata": {},
   "outputs": [],
   "source": [
    "import tensorflow as tf  \n",
    "import pandas as pd\n",
    "import numpy as np\n",
    "import matplotlib.pyplot as plt"
   ]
  },
  {
   "cell_type": "code",
   "execution_count": null,
   "id": "ef8c7ccb",
   "metadata": {},
   "outputs": [],
   "source": [
    "import keras"
   ]
  },
  {
   "cell_type": "code",
   "execution_count": null,
   "id": "b423948e",
   "metadata": {},
   "outputs": [],
   "source": [
    "import glob"
   ]
  },
  {
   "cell_type": "code",
   "execution_count": null,
   "id": "144dadba",
   "metadata": {},
   "outputs": [],
   "source": [
    "train_files = (glob.glob(\"D:/Is-the-road-safe-/Meet-Task/train/*\"))"
   ]
  },
  {
   "cell_type": "code",
   "execution_count": null,
   "id": "efcc7294",
   "metadata": {},
   "outputs": [],
   "source": [
    "type(train_files)"
   ]
  },
  {
   "cell_type": "code",
   "execution_count": null,
   "id": "77a4a118",
   "metadata": {},
   "outputs": [],
   "source": [
    "len(train_files)"
   ]
  },
  {
   "cell_type": "code",
   "execution_count": null,
   "id": "01868024",
   "metadata": {},
   "outputs": [],
   "source": [
    "train_files"
   ]
  },
  {
   "cell_type": "code",
   "execution_count": null,
   "id": "e96d915a",
   "metadata": {},
   "outputs": [],
   "source": [
    "from random import shuffle\n",
    "shuffle(train_files)\n",
    "train_files"
   ]
  },
  {
   "cell_type": "code",
   "execution_count": null,
   "id": "c8beda90",
   "metadata": {},
   "outputs": [],
   "source": [
    "from PIL import Image\n",
    "img=Image.open(train_files[0])\n",
    "plt.imshow(img)"
   ]
  },
  {
   "cell_type": "code",
   "execution_count": null,
   "id": "6161a43b",
   "metadata": {},
   "outputs": [],
   "source": [
    "np.array(img).shape"
   ]
  },
  {
   "cell_type": "code",
   "execution_count": null,
   "id": "bf7173e5",
   "metadata": {},
   "outputs": [],
   "source": [
    "train_files[0][-5]"
   ]
  },
  {
   "cell_type": "code",
   "execution_count": null,
   "id": "c80335a7",
   "metadata": {},
   "outputs": [],
   "source": [
    "X_train=np.zeros((len(train_files),128,128))\n",
    "Y_train=np.zeros((len(train_files),1))\n",
    "for i, fi in enumerate(train_files):\n",
    "    im=Image.open(fi)\n",
    "    X_train[i,:,:]=np.array(im)\n",
    "    Y_train[i]=   fi[-6]\n",
    "    "
   ]
  },
  {
   "cell_type": "code",
   "execution_count": null,
   "id": "5d17df39",
   "metadata": {},
   "outputs": [],
   "source": [
    "X_train[0]"
   ]
  },
  {
   "cell_type": "code",
   "execution_count": null,
   "id": "08e26d85",
   "metadata": {},
   "outputs": [],
   "source": [
    "X_train/255.0 #because range of a pixel number is from 1 to 255"
   ]
  },
  {
   "cell_type": "code",
   "execution_count": null,
   "id": "65cc2139",
   "metadata": {},
   "outputs": [],
   "source": [
    "model= keras.Sequential([\n",
    "    keras.layers.Conv2D(\n",
    "    filters=120,\n",
    "    kernel_size=3,\n",
    "    activation='relu',\n",
    "    input_shape=(128,128,1)\n",
    "    ),\n",
    "    keras.layers.Conv2D(\n",
    "    filters=24,\n",
    "    kernel_size=3,\n",
    "    activation='relu',\n",
    "    ),\n",
    "    keras.layers.Flatten(),\n",
    "    keras.layers.Dense(\n",
    "        units=96,\n",
    "        activation='relu',\n",
    "    ),\n",
    "    keras.layers.Dense(6,activation='softmax')\n",
    "    \n",
    "])\n",
    "#Conv2D , Dense , flatten , maxpool //tuesday  ,activation, filter //thrusday next assigment tuesday, saturday "
   ]
  },
  {
   "cell_type": "code",
   "execution_count": null,
   "id": "c5d51474",
   "metadata": {},
   "outputs": [],
   "source": [
    "model.compile(optimizer=tf.keras.optimizers.Adam(learning_rate=1e-3),\n",
    "             loss='sparse_categorical_crossentropy',\n",
    "             metrics=['accuracy'])"
   ]
  },
  {
   "cell_type": "code",
   "execution_count": null,
   "id": "9da1537d",
   "metadata": {},
   "outputs": [],
   "source": [
    "model.summary()"
   ]
  },
  {
   "cell_type": "code",
   "execution_count": null,
   "id": "d152d864",
   "metadata": {},
   "outputs": [],
   "source": [
    "X_train=X_train.reshape(len(X_train),128,128,1)"
   ]
  },
  {
   "cell_type": "code",
   "execution_count": null,
   "id": "75cac5f1",
   "metadata": {},
   "outputs": [],
   "source": [
    "X_train.shape"
   ]
  },
  {
   "cell_type": "code",
   "execution_count": null,
   "id": "bc4da085",
   "metadata": {},
   "outputs": [],
   "source": [
    "model.fit(X_train, Y_train,epochs=2,validation_split=0.1)"
   ]
  },
  {
   "cell_type": "code",
   "execution_count": null,
   "id": "4f5ea6d2",
   "metadata": {},
   "outputs": [],
   "source": [
    "i=5"
   ]
  }
 ],
 "metadata": {
  "kernelspec": {
   "display_name": "Python 3 (ipykernel)",
   "language": "python",
   "name": "python3"
  },
  "language_info": {
   "codemirror_mode": {
    "name": "ipython",
    "version": 3
   },
   "file_extension": ".py",
   "mimetype": "text/x-python",
   "name": "python",
   "nbconvert_exporter": "python",
   "pygments_lexer": "ipython3",
   "version": "3.9.7"
  }
 },
 "nbformat": 4,
 "nbformat_minor": 5
}
